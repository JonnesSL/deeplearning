{
  "nbformat": 4,
  "nbformat_minor": 0,
  "metadata": {
    "colab": {
      "name": "RedesConvolucionais.ipynb",
      "provenance": [],
      "authorship_tag": "ABX9TyNyQA20NhJZ6j9Q2BmWOIpm",
      "include_colab_link": true
    },
    "kernelspec": {
      "name": "python3",
      "display_name": "Python 3"
    },
    "language_info": {
      "name": "python"
    }
  },
  "cells": [
    {
      "cell_type": "markdown",
      "metadata": {
        "id": "view-in-github",
        "colab_type": "text"
      },
      "source": [
        "<a href=\"https://colab.research.google.com/github/pgdinamica/deeplearning/blob/main/notebooks/RedesConvolucionais.ipynb\" target=\"_parent\"><img src=\"https://colab.research.google.com/assets/colab-badge.svg\" alt=\"Open In Colab\"/></a>"
      ]
    },
    {
      "cell_type": "markdown",
      "metadata": {
        "id": "O6PLFEb0sRd_"
      },
      "source": [
        "# 2 Redes Neurais Convolucionais\n",
        "Material da live realizada no canal Programação Dinâmica no dia 16 de outubro de 2021. Confira a gravação da aula abaixo."
      ]
    },
    {
      "cell_type": "code",
      "metadata": {
        "colab": {
          "base_uri": "https://localhost:8080/",
          "height": 336
        },
        "id": "ZQoM_5rYsS3o",
        "outputId": "be757c55-c790-42e3-f799-22e346a35dd0"
      },
      "source": [
        "from IPython.display import HTML\n",
        "HTML('''<iframe width=\"560\" height=\"315\" \n",
        "        src=\"https://www.youtube.com/embed/doT7koXt9vw\" \n",
        "        frameborder=\"0\" allow=\"accelerometer; autoplay; encrypted-media; \n",
        "        gyroscope; picture-in-picture\" allowfullscreen></iframe>''')"
      ],
      "execution_count": 1,
      "outputs": [
        {
          "output_type": "execute_result",
          "data": {
            "text/html": [
              "<iframe width=\"560\" height=\"315\" \n",
              "        src=\"https://www.youtube.com/embed/doT7koXt9vw\" \n",
              "        frameborder=\"0\" allow=\"accelerometer; autoplay; encrypted-media; \n",
              "        gyroscope; picture-in-picture\" allowfullscreen></iframe>"
            ],
            "text/plain": [
              "<IPython.core.display.HTML object>"
            ]
          },
          "metadata": {},
          "execution_count": 1
        }
      ]
    },
    {
      "cell_type": "markdown",
      "metadata": {
        "id": "MZvgTywhWWJx"
      },
      "source": [
        "As redes convolucionais ou redes de convolução têm sido aplicadas com muito sucesso em tarefas relacionadas a imagens. Hoje, entenderemos a ideia por trás deste tipo de arquitetura de rede neural e resolveremos um problema de classificação binária de imagens.\n",
        "\n",
        "Conjunto de dados: https://www.kaggle.com/sovitrath/sports-image-dataset \n"
      ]
    },
    {
      "cell_type": "code",
      "metadata": {
        "id": "2jD0TNQSWSD0"
      },
      "source": [
        ""
      ],
      "execution_count": null,
      "outputs": []
    },
    {
      "cell_type": "markdown",
      "metadata": {
        "id": "h6KmX-D83Qxm"
      },
      "source": [
        "# E se tivesse mais classes?"
      ]
    }
  ]
}