{
  "nbformat": 4,
  "nbformat_minor": 0,
  "metadata": {
    "colab": {
      "name": "PreparacaoRedesConvolucionais.ipynb",
      "provenance": [],
      "collapsed_sections": [],
      "include_colab_link": true
    },
    "kernelspec": {
      "name": "python3",
      "display_name": "Python 3"
    },
    "language_info": {
      "name": "python"
    },
    "accelerator": "GPU"
  },
  "cells": [
    {
      "cell_type": "markdown",
      "metadata": {
        "id": "view-in-github",
        "colab_type": "text"
      },
      "source": [
        "<a href=\"https://colab.research.google.com/github/pgdinamica/deeplearning/blob/main/notebooks/RedesConvolucionais.ipynb\" target=\"_parent\"><img src=\"https://colab.research.google.com/assets/colab-badge.svg\" alt=\"Open In Colab\"/></a>"
      ]
    },
    {
      "cell_type": "markdown",
      "metadata": {
        "id": "O6PLFEb0sRd_"
      },
      "source": [
        "# II Redes Neurais Convolucionais\n",
        "Material da aula realizada no canal Programação Dinâmica no dia 16 de outubro de 2021. Confira a gravação da aula abaixo."
      ]
    },
    {
      "cell_type": "code",
      "metadata": {
        "colab": {
          "base_uri": "https://localhost:8080/",
          "height": 335
        },
        "id": "ZQoM_5rYsS3o",
        "outputId": "1773e912-237b-475d-e243-87b85cc52951"
      },
      "source": [
        "from IPython.display import HTML\n",
        "HTML('''<iframe width=\"560\" height=\"315\" \n",
        "        src=\"https://www.youtube.com/embed/doT7koXt9vw\" \n",
        "        frameborder=\"0\" allow=\"accelerometer; autoplay; encrypted-media; \n",
        "        gyroscope; picture-in-picture\" allowfullscreen></iframe>''')"
      ],
      "execution_count": null,
      "outputs": [
        {
          "output_type": "execute_result",
          "data": {
            "text/html": [
              "<iframe width=\"560\" height=\"315\" \n",
              "        src=\"https://www.youtube.com/embed/doT7koXt9vw\" \n",
              "        frameborder=\"0\" allow=\"accelerometer; autoplay; encrypted-media; \n",
              "        gyroscope; picture-in-picture\" allowfullscreen></iframe>"
            ],
            "text/plain": [
              "<IPython.core.display.HTML object>"
            ]
          },
          "metadata": {},
          "execution_count": 1
        }
      ]
    },
    {
      "cell_type": "markdown",
      "metadata": {
        "id": "MZvgTywhWWJx"
      },
      "source": [
        "As redes convolucionais ou redes de convolução têm sido aplicadas com muito sucesso em tarefas relacionadas a imagens. Nesta aula, entenderemos a ideia por trás deste tipo de arquitetura de rede neural e resolveremos um problema de classificação binária de imagens.\n"
      ]
    },
    {
      "cell_type": "markdown",
      "metadata": {
        "id": "BIoztHyEVRes"
      },
      "source": [
        "# Preparando o Conjunto de Dados\n",
        "\n",
        "Vamos usar um conjunto de dados de imagens clássico chamado CIFAR10. Este conjunto....\n",
        "\n"
      ]
    },
    {
      "cell_type": "code",
      "metadata": {
        "colab": {
          "base_uri": "https://localhost:8080/"
        },
        "id": "8chUVuTQVY1S",
        "outputId": "a9bb12ff-0c9b-4b7a-8c2a-4f7f465d4cf8"
      },
      "source": [
        "from google.colab import drive\n",
        "drive.mount('/content/drive')"
      ],
      "execution_count": 2,
      "outputs": [
        {
          "output_type": "stream",
          "name": "stdout",
          "text": [
            "Mounted at /content/drive\n"
          ]
        }
      ]
    },
    {
      "cell_type": "code",
      "metadata": {
        "id": "5QZCbfm-xEks"
      },
      "source": [
        "import torch\n",
        "import matplotlib.pyplot as plt\n",
        "import os\n",
        "\n",
        "from torch.utils.data import Dataset, DataLoader\n",
        "import torchvision.transforms as T\n",
        "# from torchvision.io import read_image\n",
        "from torchvision.datasets import CIFAR10"
      ],
      "execution_count": 3,
      "outputs": []
    },
    {
      "cell_type": "code",
      "metadata": {
        "id": "TTALPGGBrkpM"
      },
      "source": [
        "DATA_DIR = '/content/drive/MyDrive/CursoDeepLearning/cifar10'\n",
        "CATEGORIES = ['airplane','automobile','bird','cat','deer',\n",
        "               'dog','frog','horse','ship','truck']"
      ],
      "execution_count": 4,
      "outputs": []
    },
    {
      "cell_type": "code",
      "metadata": {
        "colab": {
          "base_uri": "https://localhost:8080/"
        },
        "id": "152Vp8QkCblW",
        "outputId": "6d272a07-d035-4ba9-b57f-107489deb135"
      },
      "source": [
        "cifar10_train = CIFAR10(DATA_DIR, train=True, download=True)\n",
        "cifar10_test = CIFAR10(DATA_DIR, train=False, download=True)"
      ],
      "execution_count": 5,
      "outputs": [
        {
          "output_type": "stream",
          "name": "stdout",
          "text": [
            "Files already downloaded and verified\n",
            "Files already downloaded and verified\n"
          ]
        }
      ]
    },
    {
      "cell_type": "code",
      "metadata": {
        "colab": {
          "base_uri": "https://localhost:8080/"
        },
        "id": "ED6vGZreDCxk",
        "outputId": "392503b8-29ad-4639-ad82-48a043ebd851"
      },
      "source": [
        "(len(cifar10_train), len(cifar10_test))"
      ],
      "execution_count": 6,
      "outputs": [
        {
          "output_type": "execute_result",
          "data": {
            "text/plain": [
              "(50000, 10000)"
            ]
          },
          "metadata": {},
          "execution_count": 6
        }
      ]
    },
    {
      "cell_type": "markdown",
      "metadata": {
        "id": "bNR9dglDNNdz"
      },
      "source": [
        "## Vamos visualizar algumas imagens dos dados"
      ]
    },
    {
      "cell_type": "code",
      "metadata": {
        "id": "IYg8GUzNyBNm"
      },
      "source": [
        "def lookat_dataset(dataset, istensor=False):\n",
        "  figure = plt.figure(figsize=(8, 8))\n",
        "  rows, cols = 2, 2\n",
        "  for i in range(1, 5):\n",
        "      sample_idx = torch.randint(len(dataset), size=(1,)).item()\n",
        "      img, label = dataset[sample_idx]\n",
        "      figure.add_subplot(rows, cols, i)\n",
        "      plt.title(CATEGORIES[label])\n",
        "      plt.axis(\"off\")\n",
        "      if istensor:\n",
        "        plt.imshow(img.squeeze().permute(1, 2, 0))\n",
        "      else:\n",
        "        plt.imshow(img)\n",
        "  plt.show()"
      ],
      "execution_count": 7,
      "outputs": []
    },
    {
      "cell_type": "code",
      "metadata": {
        "colab": {
          "base_uri": "https://localhost:8080/",
          "height": 482
        },
        "id": "-jzzBTPuE7-P",
        "outputId": "f8f974c8-12bb-4c42-a0ac-076b6076df30"
      },
      "source": [
        "lookat_dataset(cifar10_train)"
      ],
      "execution_count": 8,
      "outputs": [
        {
          "output_type": "display_data",
          "data": {
            "image/png": "[encoded data removed]",
            "text/plain": [
              "<Figure size 576x576 with 4 Axes>"
            ]
          },
          "metadata": {
            "needs_background": "light"
          }
        }
      ]
    },
    {
      "cell_type": "markdown",
      "metadata": {
        "id": "2w8EpbjxWRdq"
      },
      "source": [
        "# Aplicando transformações e dividindo os dados"
      ]
    },
    {
      "cell_type": "code",
      "metadata": {
        "id": "TaFPiUS-clYo"
      },
      "source": [
        "prep_transform = T.Compose([\n",
        "                    T.ToTensor(),\n",
        "                    T.Normalize(\n",
        "                        (0.4914, 0.4822, 0.4465), (0.2470, 0.2435, 0.2616)\n",
        "                    )\n",
        "                  ])\n",
        "\n",
        "# Applying a transform\n",
        "tensor_train = CIFAR10(DATA_DIR, train=True, download=False,\n",
        "                         transform=prep_transform)\n",
        "tensor_test = CIFAR10(DATA_DIR, train=False, download=False,\n",
        "                         transform=prep_transform)\n"
      ],
      "execution_count": 14,
      "outputs": []
    },
    {
      "cell_type": "code",
      "metadata": {
        "colab": {
          "base_uri": "https://localhost:8080/"
        },
        "id": "PY7YMvixFj3D",
        "outputId": "9f391641-37c1-44e9-c830-c264ca6ce4e9"
      },
      "source": [
        "# Normalizing data\n",
        "imgs = torch.stack([img_t for img_t, _ in tensor_train], dim=3)\n",
        "imgs.shape"
      ],
      "execution_count": 11,
      "outputs": [
        {
          "output_type": "execute_result",
          "data": {
            "text/plain": [
              "torch.Size([3, 32, 32, 50000])"
            ]
          },
          "metadata": {},
          "execution_count": 11
        }
      ]
    },
    {
      "cell_type": "code",
      "metadata": {
        "colab": {
          "base_uri": "https://localhost:8080/"
        },
        "id": "-blHuJcsFms5",
        "outputId": "f72405dc-75d7-4a01-fedf-550b9183075b"
      },
      "source": [
        "imgs.view(3, -1).mean(dim=1)"
      ],
      "execution_count": 12,
      "outputs": [
        {
          "output_type": "execute_result",
          "data": {
            "text/plain": [
              "tensor([0.4914, 0.4822, 0.4465])"
            ]
          },
          "metadata": {},
          "execution_count": 12
        }
      ]
    },
    {
      "cell_type": "code",
      "metadata": {
        "colab": {
          "base_uri": "https://localhost:8080/"
        },
        "id": "4l_8Wb1xFozl",
        "outputId": "2ca03f8e-c12a-45ef-d5bc-e9db808966d8"
      },
      "source": [
        "imgs.view(3, -1).std(dim=1)"
      ],
      "execution_count": 13,
      "outputs": [
        {
          "output_type": "execute_result",
          "data": {
            "text/plain": [
              "tensor([0.2470, 0.2435, 0.2616])"
            ]
          },
          "metadata": {},
          "execution_count": 13
        }
      ]
    },
    {
      "cell_type": "code",
      "metadata": {
        "colab": {
          "base_uri": "https://localhost:8080/",
          "height": 555
        },
        "id": "yPJTiqJBIUqg",
        "outputId": "d93664da-8d0e-4dcd-9587-21a1193e2f90"
      },
      "source": [
        "lookat_dataset(tensor_train, True)"
      ],
      "execution_count": 15,
      "outputs": [
        {
          "output_type": "stream",
          "name": "stderr",
          "text": [
            "Clipping input data to the valid range for imshow with RGB data ([0..1] for floats or [0..255] for integers).\n",
            "Clipping input data to the valid range for imshow with RGB data ([0..1] for floats or [0..255] for integers).\n",
            "Clipping input data to the valid range for imshow with RGB data ([0..1] for floats or [0..255] for integers).\n",
            "Clipping input data to the valid range for imshow with RGB data ([0..1] for floats or [0..255] for integers).\n"
          ]
        },
        {
          "output_type": "display_data",
          "data": {
            "image/png": "[encoded data removed]",
            "text/plain": [
              "<Figure size 576x576 with 4 Axes>"
            ]
          },
          "metadata": {
            "needs_background": "light"
          }
        }
      ]
    },
    {
      "cell_type": "markdown",
      "metadata": {
        "id": "n8t7cRz3NIeC"
      },
      "source": [
        "## Filtrando o Dataset e Criando DataLoaders"
      ]
    },
    {
      "cell_type": "code",
      "metadata": {
        "id": "tZMA3eRqIm-3"
      },
      "source": [
        "label_map = {0: 0, 2: 1}\n",
        "class_names = ['airplane', 'bird']\n",
        "cifar2_train = [(img, label_map[label])\n",
        "          for img, label in tensor_train\n",
        "          if label in [0, 2]]\n",
        "cifar2_test = [(img, label_map[label])\n",
        "              for img, label in tensor_test\n",
        "              if label in [0, 2]]"
      ],
      "execution_count": 16,
      "outputs": []
    },
    {
      "cell_type": "code",
      "metadata": {
        "id": "JTP1z9HONGQG"
      },
      "source": [
        "batch_size = 64\n",
        "train_loader = DataLoader(cifar2_train, batch_size=batch_size, shuffle=True)\n",
        "test_loader = DataLoader(cifar2_test, batch_size=batch_size, shuffle=False)"
      ],
      "execution_count": 17,
      "outputs": []
    },
    {
      "cell_type": "markdown",
      "metadata": {
        "id": "i95KMQtUZUUp"
      },
      "source": [
        "# Construindo uma rede MLP \n",
        "\n",
        "MLP = MultiLayer Perceptron (multi camadas de perceptrons)"
      ]
    },
    {
      "cell_type": "code",
      "metadata": {
        "id": "jbykL7oXMMEq"
      },
      "source": [
        "from torch import nn"
      ],
      "execution_count": 18,
      "outputs": []
    },
    {
      "cell_type": "code",
      "metadata": {
        "id": "dD5Lo7hAMJI0"
      },
      "source": [
        "class MLPClassifier(nn.Module):\n",
        "  def __init__(self):\n",
        "    super().__init__()\n",
        "    self.flatten = nn.Flatten()\n",
        "    \n",
        "    self.layers = nn.Sequential(\n",
        "        nn.Linear(3 * 32*32, 512),\n",
        "        nn.ReLU(),\n",
        "        nn.Linear(512, 256),\n",
        "        nn.ReLU(),\n",
        "        nn.Linear(256, 128),\n",
        "        nn.ReLU(),\n",
        "        nn.Linear(128, 4),\n",
        "    )\n",
        "\n",
        "  def forward(self, x):\n",
        "    v = self.flatten(x)\n",
        "    return self.layers(v)"
      ],
      "execution_count": 19,
      "outputs": []
    },
    {
      "cell_type": "code",
      "metadata": {
        "colab": {
          "base_uri": "https://localhost:8080/"
        },
        "id": "MSYk530HhKT7",
        "outputId": "db6e472f-97aa-460d-864b-47bb320d7e1e"
      },
      "source": [
        "device = \"cuda\" if torch.cuda.is_available() else \"cpu\"\n",
        "print(f\"Rodando na {device}\")"
      ],
      "execution_count": 20,
      "outputs": [
        {
          "output_type": "stream",
          "name": "stdout",
          "text": [
            "Rodando na cpu\n"
          ]
        }
      ]
    },
    {
      "cell_type": "code",
      "metadata": {
        "id": "Lfj8wfonhp4J"
      },
      "source": [
        "model = MLPClassifier().to(device)"
      ],
      "execution_count": 21,
      "outputs": []
    },
    {
      "cell_type": "markdown",
      "metadata": {
        "id": "13KzicDUhcHg"
      },
      "source": [
        "## Escolhendo os hiperparâmetros de otimização"
      ]
    },
    {
      "cell_type": "code",
      "metadata": {
        "id": "uJaI-Sljhmnx"
      },
      "source": [
        "loss_func = nn.CrossEntropyLoss()\n",
        "optimizer = torch.optim.SGD(model.parameters(), lr=1e-3)"
      ],
      "execution_count": 22,
      "outputs": []
    },
    {
      "cell_type": "code",
      "metadata": {
        "id": "RnSPENw_hymn"
      },
      "source": [
        "def train(model, dataloader, loss_func, optimizer):\n",
        "  model.train()\n",
        "  cumloss = 0.0\n",
        "\n",
        "  for imgs, labels in dataloader:\n",
        "    imgs, labels = imgs.to(device), labels.to(device)\n",
        "    \n",
        "    optimizer.zero_grad()\n",
        "\n",
        "    pred = model(imgs)\n",
        "\n",
        "    loss = loss_func(pred, labels)\n",
        "    loss.backward()\n",
        "    optimizer.step()\n",
        "\n",
        "    cumloss += loss.item()\n",
        "\n",
        "  return cumloss / len(dataloader)\n",
        "\n",
        "def test(model, dataloader, classes):\n",
        "  # prepare to count predictions for each class\n",
        "  correct_pred = {classname: 0 for classname in classes}\n",
        "  total_pred = {classname: 0 for classname in classes}\n",
        "\n",
        "  # again no gradients needed\n",
        "  with torch.no_grad():\n",
        "      for images, labels in dataloader:\n",
        "          images, labels = images.to(device), labels.to(device)\n",
        "          outputs = model(images)\n",
        "          _, predictions = torch.max(outputs, 1)\n",
        "          # collect the correct predictions for each class\n",
        "          for label, prediction in zip(labels, predictions):\n",
        "              if label == prediction:\n",
        "                  correct_pred[classes[label]] += 1\n",
        "              total_pred[classes[label]] += 1\n",
        "\n",
        "  # print accuracy for each class\n",
        "  for classname, correct_count in correct_pred.items():\n",
        "      accuracy = 100 * float(correct_count) / total_pred[classname]\n",
        "      print(\"Accuracy for class {:5s} is: {:.1f} %\".format(classname,\n",
        "                                                    accuracy))"
      ],
      "execution_count": 23,
      "outputs": []
    },
    {
      "cell_type": "markdown",
      "metadata": {
        "id": "oakIVeK0kvMi"
      },
      "source": [
        "## Treinando a rede"
      ]
    },
    {
      "cell_type": "code",
      "metadata": {
        "id": "N-kDVbgvkxSc",
        "colab": {
          "base_uri": "https://localhost:8080/"
        },
        "outputId": "8b3c7c19-4820-4845-9e49-aad61fcc18c7"
      },
      "source": [
        "epochs = 51\n",
        "for t in range(epochs):\n",
        "  train_loss = train(model, train_loader, loss_func, optimizer)\n",
        "  if t % 10 == 0:\n",
        "    print(f\"Epoch: {t}; Train Loss: {train_loss}\")\n",
        "  "
      ],
      "execution_count": 25,
      "outputs": [
        {
          "output_type": "stream",
          "name": "stdout",
          "text": [
            "Epoch: 0; Train Loss: 1.3606203080742223\n",
            "Epoch: 10; Train Loss: 0.5531134377619263\n",
            "Epoch: 20; Train Loss: 0.47462431431575947\n",
            "Epoch: 30; Train Loss: 0.4375930690461663\n",
            "Epoch: 40; Train Loss: 0.4068145360916283\n",
            "Epoch: 50; Train Loss: 0.3782309843286587\n"
          ]
        }
      ]
    },
    {
      "cell_type": "markdown",
      "metadata": {
        "id": "pISIe7xTZfCO"
      },
      "source": [
        "# Avaliando o resultado"
      ]
    },
    {
      "cell_type": "code",
      "metadata": {
        "id": "xoKMaC0anISG",
        "colab": {
          "base_uri": "https://localhost:8080/"
        },
        "outputId": "59a1545b-9f13-4807-9bb5-c8e68b8748d7"
      },
      "source": [
        "test(model, test_loader, ['plane', 'bird'])"
      ],
      "execution_count": 27,
      "outputs": [
        {
          "output_type": "stream",
          "name": "stdout",
          "text": [
            "Accuracy for class plane is: 85.9 %\n",
            "Accuracy for class bird  is: 80.0 %\n"
          ]
        }
      ]
    },
    {
      "cell_type": "markdown",
      "metadata": {
        "id": "wRWDQtOGZh5m"
      },
      "source": [
        "# Construindo uma rede neural de convolução"
      ]
    },
    {
      "cell_type": "code",
      "metadata": {
        "id": "Rn3jnZH-8wi7"
      },
      "source": [
        "class ConvolutionalModel(nn.Module):\n",
        "  def __init__(self):\n",
        "      super().__init__()\n",
        "      self.convlayers = nn.Sequential(\n",
        "        nn.Conv2d(3, 32, kernel_size=(3, 3)),\n",
        "        nn.ReLU(),\n",
        "        nn.MaxPool2d(2, 2),\n",
        "\n",
        "        nn.Conv2d(32, 64, kernel_size=(3, 3)),\n",
        "        nn.ReLU(),\n",
        "        nn.MaxPool2d(2, 2),\n",
        "\n",
        "        nn.Conv2d(64, 128, kernel_size=(3, 3)),\n",
        "        nn.ReLU(),\n",
        "        nn.MaxPool2d(2, 2),\n",
        "      )\n",
        "\n",
        "      self.linearlayers = nn.Sequential(\n",
        "          nn.Linear(512, 256),\n",
        "          nn.ReLU(),\n",
        "          # nn.Linear(256, 128),\n",
        "          # nn.ReLU(),\n",
        "          nn.Linear(256, 4)\n",
        "      )\n",
        "      \n",
        "\n",
        "  def forward(self, x):\n",
        "      x = self.convlayers(x)\n",
        "      x = torch.flatten(x, 1)\n",
        "      return self.linearlayers(x)"
      ],
      "execution_count": 35,
      "outputs": []
    },
    {
      "cell_type": "code",
      "metadata": {
        "id": "sxLpAceNFadC"
      },
      "source": [
        "convmodel = ConvolutionalModel().to(device)"
      ],
      "execution_count": 36,
      "outputs": []
    },
    {
      "cell_type": "code",
      "metadata": {
        "id": "MLbg6GtJFuMK"
      },
      "source": [
        "loss_func2 = nn.CrossEntropyLoss()\n",
        "optimizer2 = torch.optim.SGD(convmodel.parameters(), lr=0.001)"
      ],
      "execution_count": 37,
      "outputs": []
    },
    {
      "cell_type": "code",
      "metadata": {
        "id": "aD0rAzZ1Fhrd",
        "colab": {
          "base_uri": "https://localhost:8080/"
        },
        "outputId": "74eef9da-f508-45c3-e927-faaaca46adda"
      },
      "source": [
        "epochs = 51\n",
        "for t in range(epochs):\n",
        "  train_loss = train(convmodel, train_loader, loss_func2, optimizer2)\n",
        "  if t % 10 == 0:\n",
        "    print(f\"Epoch: {t}; Train Loss: {train_loss}\")"
      ],
      "execution_count": 38,
      "outputs": [
        {
          "output_type": "stream",
          "name": "stdout",
          "text": [
            "Epoch: 0; Train Loss: 1.30973158976075\n",
            "Epoch: 10; Train Loss: 0.5775284892434527\n",
            "Epoch: 20; Train Loss: 0.5074826873791446\n",
            "Epoch: 30; Train Loss: 0.46985102022529407\n",
            "Epoch: 40; Train Loss: 0.433838663587145\n",
            "Epoch: 50; Train Loss: 0.3994482623733533\n"
          ]
        }
      ]
    },
    {
      "cell_type": "code",
      "metadata": {
        "id": "6qVVs-VxOQUV",
        "colab": {
          "base_uri": "https://localhost:8080/"
        },
        "outputId": "77f43692-0ab5-426d-b533-dbd6d9f933b9"
      },
      "source": [
        "test(convmodel, test_loader, ['plane', 'bird'])"
      ],
      "execution_count": 40,
      "outputs": [
        {
          "output_type": "stream",
          "name": "stdout",
          "text": [
            "Accuracy for class plane is: 80.4 %\n",
            "Accuracy for class bird  is: 85.3 %\n"
          ]
        }
      ]
    },
    {
      "cell_type": "markdown",
      "metadata": {
        "id": "kqepYYuIZnJx"
      },
      "source": [
        "# Avaliando o resultado"
      ]
    },
    {
      "cell_type": "code",
      "metadata": {
        "id": "hPzA9SwmM_hH"
      },
      "source": [
        "HTML('''<iframe width=\"560\" height=\"315\" \n",
        "        src=\"https://www.youtube.com/embed/ePZswmBSLvc\" \n",
        "        frameborder=\"0\" allow=\"accelerometer; autoplay; encrypted-media; \n",
        "        gyroscope; picture-in-picture\" allowfullscreen></iframe>''')"
      ],
      "execution_count": null,
      "outputs": []
    },
    {
      "cell_type": "markdown",
      "metadata": {
        "id": "h6KmX-D83Qxm"
      },
      "source": [
        "# E se tivesse mais classes?"
      ]
    },
    {
      "cell_type": "markdown",
      "metadata": {
        "id": "d4phtBuuZrlv"
      },
      "source": [
        "# Quero maaaaaaais!!!!\n",
        "\n",
        "\n",
        "1. [Tutoriais do PyTorch](https://pytorch.org/tutorials/beginner/basics/quickstart_tutorial.html)\n",
        "2. Playlist [Machine Learning com Python](https://youtube.com/playlist?list=PL5TJqBvpXQv5CBxLkdqmou_86syFK7U3Q)\n",
        "2. [Canal peixe Babel](https://youtu.be/Vfzm1-cfLuc)\n",
        "3. [Canal Universo Discreto](https://www.youtube.com/watch?v=gbrHEsbTdF0&t=2045s)\n",
        "4. [Livro Deep Learning](https://www.deeplearningbook.org), Ian GoodFellow\n",
        "5. [Fundamentos e Tendências em Visão e Processamento de Imagens](https://www.youtube.com/playlist?list=PLo4jXE-LdDTRaFa39TdNN3FgPAKkcuHvj) (Curso do IMPA)\n",
        "7. Playlist [Diário de Pesquisa](https://youtube.com/playlist?list=PL5TJqBvpXQv4xUJmvSPrP2WI--e5KIgux)"
      ]
    },
    {
      "cell_type": "code",
      "metadata": {
        "id": "GkcBnkVCVRDh"
      },
      "source": [
        "def valid_extension(name):\n",
        "  extension = name.split('.')[-1].lower()\n",
        "  return True if extension in ['jpeg', 'jpg', 'png'] else False\n",
        "\n",
        "class SportsDataset(Dataset):\n",
        "  def __init__(self, data_dir, sports, transform=None):\n",
        "    self.data_dir = data_dir\n",
        "    self.relative_paths = []\n",
        "    self.labels = []\n",
        "    self.transform = transform\n",
        "    for sport in sports:\n",
        "      img_names = os.listdir(os.path.join(data_dir, sport))\n",
        "      filtered_paths = [os.path.join(sport, name) \n",
        "                      for name in img_names if valid_extension(name)]\n",
        "      self.relative_paths.extend(filtered_paths)\n",
        "      self.labels.extend([sports.index(sport)]*len(filtered_paths))\n",
        "\n",
        "  def __len__(self):\n",
        "    return len(self.labels)\n",
        "\n",
        "  def __getitem__(self, idx):\n",
        "    fullpath = os.path.join(self.data_dir, self.relative_paths[idx])\n",
        "    image = read_image(fullpath)\n",
        "    label = self.labels[idx]\n",
        "    if self.transform:\n",
        "      image = self.transform(image)\n",
        "\n",
        "    return image, label"
      ],
      "execution_count": null,
      "outputs": []
    },
    {
      "cell_type": "code",
      "metadata": {
        "id": "feN5ibRBxnSR"
      },
      "source": [
        "CHOSEN_CATEGORIES = CATEGORIES[:-1]#['basketball', 'formula1']\n",
        "training_data = SportsDataset(DATA_DIR, CHOSEN_CATEGORIES)"
      ],
      "execution_count": null,
      "outputs": []
    }
  ]
}